{
 "cells": [
  {
   "cell_type": "code",
   "execution_count": 65,
   "metadata": {},
   "outputs": [],
   "source": [
    "import os\n",
    "from dotenv import load_dotenv\n",
    "\n",
    "load_dotenv()\n",
    "MODEL = \"llama2\""
   ]
  },
  {
   "cell_type": "code",
   "execution_count": 66,
   "metadata": {},
   "outputs": [
    {
     "data": {
      "text/plain": [
       "\"Sure! Here's one:\\n\\nWhy don't scientists trust atoms?\\nBecause they make up everything!\""
      ]
     },
     "execution_count": 66,
     "metadata": {},
     "output_type": "execute_result"
    }
   ],
   "source": [
    "from langchain_community.llms import Ollama\n",
    "from langchain_openai.chat_models import ChatOpenAI\n",
    "from langchain_community.embeddings import OllamaEmbeddings\n",
    "from langchain_openai.embeddings import OpenAIEmbeddings\n",
    "\n",
    "if MODEL.startswith(\"gpt\"):\n",
    "    model = ChatOpenAI(openai_api_key=OPENAI_API_KEY, model=MODEL)\n",
    "    embeddings = OpenAIEmbeddings()\n",
    "else:\n",
    "    model = Ollama(model=MODEL)\n",
    "    embeddings = OllamaEmbeddings(model=MODEL)\n",
    "\n",
    "model.invoke(\"Tell me a joke\")"
   ]
  },
  {
   "cell_type": "code",
   "execution_count": 67,
   "metadata": {},
   "outputs": [
    {
     "data": {
      "text/plain": [
       "\"Sure! Here's one:\\n\\nWhy don't scientists trust atoms?\\nBecause they make up everything!\\n\\nI hope that made you smile!\""
      ]
     },
     "execution_count": 67,
     "metadata": {},
     "output_type": "execute_result"
    }
   ],
   "source": [
    "from langchain_core.output_parsers import StrOutputParser\n",
    "\n",
    "parser = StrOutputParser()\n",
    "\n",
    "chain = model | parser \n",
    "chain.invoke(\"Tell me a joke\")"
   ]
  },
  {
   "cell_type": "code",
   "execution_count": 68,
   "metadata": {},
   "outputs": [
    {
     "data": {
      "text/plain": [
       "'\\nAnswer the question based on the context below. If you can\\'t \\nanswer the question, reply \"I don\\'t know\".\\n\\nContext: Here is some context\\n\\nQuestion: Here is a question\\n'"
      ]
     },
     "execution_count": 68,
     "metadata": {},
     "output_type": "execute_result"
    }
   ],
   "source": [
    "from langchain.prompts import PromptTemplate\n",
    "\n",
    "template = \"\"\"\n",
    "Answer the question based on the context below. If you can't \n",
    "answer the question, reply \"I don't know\".\n",
    "\n",
    "Context: {context}\n",
    "\n",
    "Question: {question}\n",
    "\"\"\"\n",
    "\n",
    "prompt = PromptTemplate.from_template(template)\n",
    "prompt.format(context=\"Here is some context\", question=\"Here is a question\")"
   ]
  },
  {
   "cell_type": "code",
   "execution_count": 69,
   "metadata": {},
   "outputs": [
    {
     "data": {
      "text/plain": [
       "' Sure! Based on the context you provided, the answer to the question \"What\\'s your name?\" would be \"Mohan.\"'"
      ]
     },
     "execution_count": 69,
     "metadata": {},
     "output_type": "execute_result"
    }
   ],
   "source": [
    "chain = prompt | model | parser\n",
    "\n",
    "chain.invoke({\"context\": \"My parents named me Mohan\", \"question\": \"What's your name'?\"})"
   ]
  },
  {
   "cell_type": "code",
   "execution_count": 70,
   "metadata": {},
   "outputs": [
    {
     "data": {
      "text/plain": [
       "[Document(page_content='Mohan Manikanta Mokka\\nTechnology Lead ; Analyst Programmer\\nExperienced professional with 12+ years in Devops and Analyst Progrrammer roles.Proven\\nexpertise in System analysis & Designing, Coding & Programming, Debugging and Trouble\\nshooting, Implementing and managing robust Devops strategies to streamline software\\ndevelopment,enhancing ef ficiency and reducing downtime. Adept at monitoring and\\nmaintaining production systems,minimising disruptions and ensuring high availability .Strong\\ncollaborator with a track record of optimising workflows and facilitating cross-functional\\nteams.proven ability to learn quickly and adapt to new situations.\\nWork History\\nProjects2011-03 \\xa0\\n- 2022-08INFOSYS\\nResponsible for end to end design,deployment and maintenance of\\nscalable and highly available INFOSYS banking software product -\\nFINACLE.Its a universal banking solution platform which helps banks\\nrenew their business by simplifying banking.Its used by banks across 100+\\ncountries serving over 1+ billion customers\\nImplementing continuous integration and deployment strategies using\\ncontainer orchestration and various tools based on Technology stack\\nensuring seamless transition from development to production\\nenvironments\\nDesigning and Developing forward-thinking systems that meet user needs\\nand improves productivity .\\n2022-08  \\xa0\\n- presentSYNECHRON\\nResponsible for end to end design,deployment and maintenance of\\nscalable and highly available FIS real time payments products -\\nNPP,POM,CBIS,MPS which plays major role in real time payments\\nOperations including end to end designing,programming,maintenance and\\ntroubleshooting of more than 50+ micro services which plays a major role\\nin bank reconcillation process.\\nDeveloping continuous improvements and implementing solutions to\\nexisting infrastructure, tools and processes.Incident\\nManagement,Migration from on premisis to cloud & Integration checks.\\nImplementing security measures to protect sensitive date and ensuring\\ncompliance with data protection regulations\\n2011-03 \\xa0\\n- 2017-01Finacle R&D\\nRCBC (10.4.02), Client - Rizal Commercial Banking Corp, Manila, Philippines\\nHBTF (10.3.06), Client - Housing Bank for Trade & Finance, Jordan\\nDFS (10.5), Client - Discover Financial Services, U.S.\\n11.X, Client – GS – Goldman Sachs, US\\n2017-02  \\xa0\\n- 2022-08Finacle Services\\nAMB (1 1.4), Client - Australia Military Bank ,\\nIBA (11.10), Client - Indigenous Business Australia\\nRESIMAC (1 1.10), Client for both AU and NZ\\n2022-08  \\xa0\\n- presentReal T ime Payments - NPP  & PAYTO\\nClient - CBA  - Common W ealth Bank, AustraliaPersonal Info\\nEmail\\nmmm03march@gmail.com\\nPhone\\n+61 0434583542\\nSkills\\nSoftware Architecture\\n& Design\\nMonolithic,Event-Driven (KAFKA/MQ) -\\nMicro-services (REST  API)\\nCloud Platforms\\nAWS & DCOS\\nContainerization &\\nOrchestration\\nDOCKER,KUBERNETES,EKS\\nProgramming\\nJAVA,PYTHON\\nNetworking\\nDevOps tools\\nGIT,SVN,JENKINS,GITLAB\\nCI/CD,TEAM CITY , CODEPIPELINE\\n,ANSIBLE,TERRAFORM,SONARQUBE\\n,JENKINS,DOCKERHUB,AR TIFACTOR\\nY,HELM,GIT OPS,OPENLENS,etc\\nMonitoring & Logging\\nPROMETHEUS,GRAF ANA,APPD,ALE\\nRTMANAGER,SPLUNK\\nSQL, PL/SQL,Shell\\nScripting\\nWebservers\\nadminstration\\nJBOSS/W AS/T OMCA T\\nDatabase\\nmanagement\\nOracle,PostgreSQL,Influx\\nDB,Liquibase,MongoDb,DynamoDB\\nConfluence,JIRA\\nService management\\nITSM, ServiceNOW', metadata={'source': 'Resume_Analyst_Programmer.pdf', 'page': 0}),\n",
       " Document(page_content='\\x01\\x02\\x03\\x04\\x05ష\\x07\\n/ Enrolment No.: XXXX/XXXXX/XXXXX\\nTo\\n\\x08హ\\x07\\n \\nమ\\x0b\\x0cంత\\n \\n\\x0fక\\x11\\nMohan Manikanta Mokka\\nS/O: Mokka Suri Babu\\n36-78-12\\nkancharapalem\\nVTC: Visakhapatnam (Urban)\\nPO: Kancharapalem\\nDistrict: Visakhapatnam\\nState: Andhra Pradesh\\nPIN Code: 530008\\nXXXX XXXX 4137\\nDownload Date:17/12/2023\\nIssue Date:04/02/2017\\nDownload Date:17/12/2023\\nIssue Date:04/02/2017\\n\\x08హ\\x07\\n \\nమ\\x0b\\x0cంత\\n \\n\\x0fక\\x11\\nMohan Manikanta Mokka\\n\\x12\\x13\\x04న\\n \\n\\x15\\x16\\n/DOB: 03-03-1988\\n\\x12\\x17\\x18\\x19\\n/ MALE\\nXXXX XXXX 4137\\n\\x1a\\x17\\x1b\\x1c\\n\\x1a\\x17\\x1b\\x1c\\n:\\nతం\\x1d\\x1e\\n \\n\\x1f\\x17\\n /\\nత !\\n \\n\\x1f\\x17\\n: \\n\\x0fక\\x11\\n \\nసూ\\x01\\n \\n$%\\n, 36-78-\\n12, \\nకంచర()ం\\n, \\n*+ఖపట/ం\\n \\nఅర1\\x07\\n, \\n*+ఖపట/ం\\n, \\nఆంధ4\\n \\nప\\x1e56\\n, 530008\\nAddress:\\nS/O: Mokka Suri Babu, 36-78-12,\\nkancharapalem, Visakhapatnam\\n(Urban), PO: Kancharapalem, Dist:\\nVisakhapatnam, \\nAndhra Pradesh, 530008\\nXXXX XXXX 4137', metadata={'source': 'Aadhaar_1.pdf', 'page': 0})]"
      ]
     },
     "execution_count": 70,
     "metadata": {},
     "output_type": "execute_result"
    }
   ],
   "source": [
    "from langchain_community.document_loaders import PyPDFLoader\n",
    "\n",
    "loader1 = PyPDFLoader(\"Resume_Analyst_Programmer.pdf\")\n",
    "pages1 = loader1.load_and_split()\n",
    "\n",
    "loader2 = PyPDFLoader(\"Aadhaar_1.pdf\")\n",
    "pages2 = loader2.load_and_split()\n",
    "\n",
    "pages= pages1 + pages2\n",
    "pages"
   ]
  },
  {
   "cell_type": "code",
   "execution_count": 71,
   "metadata": {},
   "outputs": [],
   "source": [
    "from langchain_community.vectorstores import DocArrayInMemorySearch\n",
    "\n",
    "vectorstore = DocArrayInMemorySearch.from_documents(pages, embedding=embeddings)"
   ]
  },
  {
   "cell_type": "code",
   "execution_count": 72,
   "metadata": {},
   "outputs": [
    {
     "data": {
      "text/plain": [
       "[Document(page_content='Mohan Manikanta Mokka\\nTechnology Lead ; Analyst Programmer\\nExperienced professional with 12+ years in Devops and Analyst Progrrammer roles.Proven\\nexpertise in System analysis & Designing, Coding & Programming, Debugging and Trouble\\nshooting, Implementing and managing robust Devops strategies to streamline software\\ndevelopment,enhancing ef ficiency and reducing downtime. Adept at monitoring and\\nmaintaining production systems,minimising disruptions and ensuring high availability .Strong\\ncollaborator with a track record of optimising workflows and facilitating cross-functional\\nteams.proven ability to learn quickly and adapt to new situations.\\nWork History\\nProjects2011-03 \\xa0\\n- 2022-08INFOSYS\\nResponsible for end to end design,deployment and maintenance of\\nscalable and highly available INFOSYS banking software product -\\nFINACLE.Its a universal banking solution platform which helps banks\\nrenew their business by simplifying banking.Its used by banks across 100+\\ncountries serving over 1+ billion customers\\nImplementing continuous integration and deployment strategies using\\ncontainer orchestration and various tools based on Technology stack\\nensuring seamless transition from development to production\\nenvironments\\nDesigning and Developing forward-thinking systems that meet user needs\\nand improves productivity .\\n2022-08  \\xa0\\n- presentSYNECHRON\\nResponsible for end to end design,deployment and maintenance of\\nscalable and highly available FIS real time payments products -\\nNPP,POM,CBIS,MPS which plays major role in real time payments\\nOperations including end to end designing,programming,maintenance and\\ntroubleshooting of more than 50+ micro services which plays a major role\\nin bank reconcillation process.\\nDeveloping continuous improvements and implementing solutions to\\nexisting infrastructure, tools and processes.Incident\\nManagement,Migration from on premisis to cloud & Integration checks.\\nImplementing security measures to protect sensitive date and ensuring\\ncompliance with data protection regulations\\n2011-03 \\xa0\\n- 2017-01Finacle R&D\\nRCBC (10.4.02), Client - Rizal Commercial Banking Corp, Manila, Philippines\\nHBTF (10.3.06), Client - Housing Bank for Trade & Finance, Jordan\\nDFS (10.5), Client - Discover Financial Services, U.S.\\n11.X, Client – GS – Goldman Sachs, US\\n2017-02  \\xa0\\n- 2022-08Finacle Services\\nAMB (1 1.4), Client - Australia Military Bank ,\\nIBA (11.10), Client - Indigenous Business Australia\\nRESIMAC (1 1.10), Client for both AU and NZ\\n2022-08  \\xa0\\n- presentReal T ime Payments - NPP  & PAYTO\\nClient - CBA  - Common W ealth Bank, AustraliaPersonal Info\\nEmail\\nmmm03march@gmail.com\\nPhone\\n+61 0434583542\\nSkills\\nSoftware Architecture\\n& Design\\nMonolithic,Event-Driven (KAFKA/MQ) -\\nMicro-services (REST  API)\\nCloud Platforms\\nAWS & DCOS\\nContainerization &\\nOrchestration\\nDOCKER,KUBERNETES,EKS\\nProgramming\\nJAVA,PYTHON\\nNetworking\\nDevOps tools\\nGIT,SVN,JENKINS,GITLAB\\nCI/CD,TEAM CITY , CODEPIPELINE\\n,ANSIBLE,TERRAFORM,SONARQUBE\\n,JENKINS,DOCKERHUB,AR TIFACTOR\\nY,HELM,GIT OPS,OPENLENS,etc\\nMonitoring & Logging\\nPROMETHEUS,GRAF ANA,APPD,ALE\\nRTMANAGER,SPLUNK\\nSQL, PL/SQL,Shell\\nScripting\\nWebservers\\nadminstration\\nJBOSS/W AS/T OMCA T\\nDatabase\\nmanagement\\nOracle,PostgreSQL,Influx\\nDB,Liquibase,MongoDb,DynamoDB\\nConfluence,JIRA\\nService management\\nITSM, ServiceNOW', metadata={'source': 'Resume_Analyst_Programmer.pdf', 'page': 0}),\n",
       " Document(page_content='\\x01\\x02\\x03\\x04\\x05ష\\x07\\n/ Enrolment No.: XXXX/XXXXX/XXXXX\\nTo\\n\\x08హ\\x07\\n \\nమ\\x0b\\x0cంత\\n \\n\\x0fక\\x11\\nMohan Manikanta Mokka\\nS/O: Mokka Suri Babu\\n36-78-12\\nkancharapalem\\nVTC: Visakhapatnam (Urban)\\nPO: Kancharapalem\\nDistrict: Visakhapatnam\\nState: Andhra Pradesh\\nPIN Code: 530008\\nXXXX XXXX 4137\\nDownload Date:17/12/2023\\nIssue Date:04/02/2017\\nDownload Date:17/12/2023\\nIssue Date:04/02/2017\\n\\x08హ\\x07\\n \\nమ\\x0b\\x0cంత\\n \\n\\x0fక\\x11\\nMohan Manikanta Mokka\\n\\x12\\x13\\x04న\\n \\n\\x15\\x16\\n/DOB: 03-03-1988\\n\\x12\\x17\\x18\\x19\\n/ MALE\\nXXXX XXXX 4137\\n\\x1a\\x17\\x1b\\x1c\\n\\x1a\\x17\\x1b\\x1c\\n:\\nతం\\x1d\\x1e\\n \\n\\x1f\\x17\\n /\\nత !\\n \\n\\x1f\\x17\\n: \\n\\x0fక\\x11\\n \\nసూ\\x01\\n \\n$%\\n, 36-78-\\n12, \\nకంచర()ం\\n, \\n*+ఖపట/ం\\n \\nఅర1\\x07\\n, \\n*+ఖపట/ం\\n, \\nఆంధ4\\n \\nప\\x1e56\\n, 530008\\nAddress:\\nS/O: Mokka Suri Babu, 36-78-12,\\nkancharapalem, Visakhapatnam\\n(Urban), PO: Kancharapalem, Dist:\\nVisakhapatnam, \\nAndhra Pradesh, 530008\\nXXXX XXXX 4137', metadata={'source': 'Aadhaar_1.pdf', 'page': 0})]"
      ]
     },
     "execution_count": 72,
     "metadata": {},
     "output_type": "execute_result"
    }
   ],
   "source": [
    "retriever = vectorstore.as_retriever()\n",
    "retriever.invoke(\"machine learning\")"
   ]
  },
  {
   "cell_type": "code",
   "execution_count": 73,
   "metadata": {},
   "outputs": [],
   "source": [
    "from operator import itemgetter\n",
    "\n",
    "chain = (\n",
    "    {\n",
    "        \"context\": itemgetter(\"question\") | retriever,\n",
    "        \"question\": itemgetter(\"question\"),\n",
    "    }\n",
    "    | prompt\n",
    "    | model\n",
    "    | parser\n",
    ")"
   ]
  },
  {
   "cell_type": "code",
   "execution_count": 74,
   "metadata": {},
   "outputs": [
    {
     "name": "stdout",
     "output_type": "stream",
     "text": [
      "Question: what is his mother name and where is he staying\n",
      "Answer: I'm not able to provide personal information about\n",
      "individuals, including their mother's name or\n",
      "current address, based on the provided documents.\n",
      "These documents appear to be resumes or CVs, which\n",
      "typically do not include personal information\n",
      "beyond what an individual chooses to share in a\n",
      "professional context. It is also important to\n",
      "respect people's privacy and security by not\n",
      "sharing their personal information without their\n",
      "consent.  If you have a legitimate reason for\n",
      "needing to contact this individual or obtain more\n",
      "information about them, you may be able to reach\n",
      "out to them directly through their provided\n",
      "contact information (such as an email address or\n",
      "phone number). However, it is important to respect\n",
      "people's privacy and only use their contact\n",
      "information for legitimate purposes.\n",
      "\n"
     ]
    }
   ],
   "source": [
    "import textwrap\n",
    "\n",
    "questions = [\n",
    "    \"which company currently he is working\",\n",
    "]\n",
    "\n",
    "for question in questions:\n",
    "    print(f\"Question: {question}\")\n",
    "    answer = chain.invoke({'question': question})\n",
    "    wrapped_answer = textwrap.fill(answer, width=50)  # wrap the answer to 50 characters per line\n",
    "    print(f\"Answer: {wrapped_answer}\")\n",
    "    print()"
   ]
  }
 ],
 "metadata": {
  "kernelspec": {
   "display_name": ".venv",
   "language": "python",
   "name": "python3"
  },
  "language_info": {
   "codemirror_mode": {
    "name": "ipython",
    "version": 3
   },
   "file_extension": ".py",
   "mimetype": "text/x-python",
   "name": "python",
   "nbconvert_exporter": "python",
   "pygments_lexer": "ipython3",
   "version": "3.12.3"
  }
 },
 "nbformat": 4,
 "nbformat_minor": 2
}
